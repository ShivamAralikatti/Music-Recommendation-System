{
 "cells": [
  {
   "cell_type": "code",
   "execution_count": 1,
   "id": "9d6e1c19",
   "metadata": {},
   "outputs": [
    {
     "data": {
      "text/html": [
       "<div>\n",
       "<style scoped>\n",
       "    .dataframe tbody tr th:only-of-type {\n",
       "        vertical-align: middle;\n",
       "    }\n",
       "\n",
       "    .dataframe tbody tr th {\n",
       "        vertical-align: top;\n",
       "    }\n",
       "\n",
       "    .dataframe thead th {\n",
       "        text-align: right;\n",
       "    }\n",
       "</style>\n",
       "<table border=\"1\" class=\"dataframe\">\n",
       "  <thead>\n",
       "    <tr style=\"text-align: right;\">\n",
       "      <th></th>\n",
       "      <th>artist</th>\n",
       "      <th>song</th>\n",
       "      <th>link</th>\n",
       "      <th>text</th>\n",
       "    </tr>\n",
       "  </thead>\n",
       "  <tbody>\n",
       "    <tr>\n",
       "      <th>0</th>\n",
       "      <td>ABBA</td>\n",
       "      <td>Ahe's My Kind Of Girl</td>\n",
       "      <td>/a/abba/ahes+my+kind+of+girl_20598417.html</td>\n",
       "      <td>Look at her face, it's a wonderful face  \\r\\nA...</td>\n",
       "    </tr>\n",
       "    <tr>\n",
       "      <th>1</th>\n",
       "      <td>ABBA</td>\n",
       "      <td>Andante, Andante</td>\n",
       "      <td>/a/abba/andante+andante_20002708.html</td>\n",
       "      <td>Take it easy with me, please  \\r\\nTouch me gen...</td>\n",
       "    </tr>\n",
       "    <tr>\n",
       "      <th>2</th>\n",
       "      <td>ABBA</td>\n",
       "      <td>As Good As New</td>\n",
       "      <td>/a/abba/as+good+as+new_20003033.html</td>\n",
       "      <td>I'll never know why I had to go  \\r\\nWhy I had...</td>\n",
       "    </tr>\n",
       "    <tr>\n",
       "      <th>3</th>\n",
       "      <td>ABBA</td>\n",
       "      <td>Bang</td>\n",
       "      <td>/a/abba/bang_20598415.html</td>\n",
       "      <td>Making somebody happy is a question of give an...</td>\n",
       "    </tr>\n",
       "    <tr>\n",
       "      <th>4</th>\n",
       "      <td>ABBA</td>\n",
       "      <td>Bang-A-Boomerang</td>\n",
       "      <td>/a/abba/bang+a+boomerang_20002668.html</td>\n",
       "      <td>Making somebody happy is a question of give an...</td>\n",
       "    </tr>\n",
       "  </tbody>\n",
       "</table>\n",
       "</div>"
      ],
      "text/plain": [
       "  artist                   song                                        link  \\\n",
       "0   ABBA  Ahe's My Kind Of Girl  /a/abba/ahes+my+kind+of+girl_20598417.html   \n",
       "1   ABBA       Andante, Andante       /a/abba/andante+andante_20002708.html   \n",
       "2   ABBA         As Good As New        /a/abba/as+good+as+new_20003033.html   \n",
       "3   ABBA                   Bang                  /a/abba/bang_20598415.html   \n",
       "4   ABBA       Bang-A-Boomerang      /a/abba/bang+a+boomerang_20002668.html   \n",
       "\n",
       "                                                text  \n",
       "0  Look at her face, it's a wonderful face  \\r\\nA...  \n",
       "1  Take it easy with me, please  \\r\\nTouch me gen...  \n",
       "2  I'll never know why I had to go  \\r\\nWhy I had...  \n",
       "3  Making somebody happy is a question of give an...  \n",
       "4  Making somebody happy is a question of give an...  "
      ]
     },
     "execution_count": 1,
     "metadata": {},
     "output_type": "execute_result"
    }
   ],
   "source": [
    "import pandas as pd\n",
    "df = pd.read_csv(\"spotify_millsongdata.csv\")\n",
    "df.head(5)"
   ]
  },
  {
   "cell_type": "code",
   "execution_count": 2,
   "id": "0a4fd77b",
   "metadata": {},
   "outputs": [
    {
     "data": {
      "text/plain": [
       "artist    0\n",
       "song      0\n",
       "link      0\n",
       "text      0\n",
       "dtype: int64"
      ]
     },
     "execution_count": 2,
     "metadata": {},
     "output_type": "execute_result"
    }
   ],
   "source": [
    "df.isnull().sum()"
   ]
  },
  {
   "cell_type": "code",
   "execution_count": 3,
   "id": "5f0e78a4",
   "metadata": {},
   "outputs": [
    {
     "data": {
      "text/html": [
       "<div>\n",
       "<style scoped>\n",
       "    .dataframe tbody tr th:only-of-type {\n",
       "        vertical-align: middle;\n",
       "    }\n",
       "\n",
       "    .dataframe tbody tr th {\n",
       "        vertical-align: top;\n",
       "    }\n",
       "\n",
       "    .dataframe thead th {\n",
       "        text-align: right;\n",
       "    }\n",
       "</style>\n",
       "<table border=\"1\" class=\"dataframe\">\n",
       "  <thead>\n",
       "    <tr style=\"text-align: right;\">\n",
       "      <th></th>\n",
       "      <th>artist</th>\n",
       "      <th>song</th>\n",
       "      <th>text</th>\n",
       "    </tr>\n",
       "  </thead>\n",
       "  <tbody>\n",
       "    <tr>\n",
       "      <th>0</th>\n",
       "      <td>ABBA</td>\n",
       "      <td>Ahe's My Kind Of Girl</td>\n",
       "      <td>Look at her face, it's a wonderful face  \\r\\nA...</td>\n",
       "    </tr>\n",
       "    <tr>\n",
       "      <th>1</th>\n",
       "      <td>ABBA</td>\n",
       "      <td>Andante, Andante</td>\n",
       "      <td>Take it easy with me, please  \\r\\nTouch me gen...</td>\n",
       "    </tr>\n",
       "    <tr>\n",
       "      <th>2</th>\n",
       "      <td>ABBA</td>\n",
       "      <td>As Good As New</td>\n",
       "      <td>I'll never know why I had to go  \\r\\nWhy I had...</td>\n",
       "    </tr>\n",
       "    <tr>\n",
       "      <th>3</th>\n",
       "      <td>ABBA</td>\n",
       "      <td>Bang</td>\n",
       "      <td>Making somebody happy is a question of give an...</td>\n",
       "    </tr>\n",
       "    <tr>\n",
       "      <th>4</th>\n",
       "      <td>ABBA</td>\n",
       "      <td>Bang-A-Boomerang</td>\n",
       "      <td>Making somebody happy is a question of give an...</td>\n",
       "    </tr>\n",
       "  </tbody>\n",
       "</table>\n",
       "</div>"
      ],
      "text/plain": [
       "  artist                   song  \\\n",
       "0   ABBA  Ahe's My Kind Of Girl   \n",
       "1   ABBA       Andante, Andante   \n",
       "2   ABBA         As Good As New   \n",
       "3   ABBA                   Bang   \n",
       "4   ABBA       Bang-A-Boomerang   \n",
       "\n",
       "                                                text  \n",
       "0  Look at her face, it's a wonderful face  \\r\\nA...  \n",
       "1  Take it easy with me, please  \\r\\nTouch me gen...  \n",
       "2  I'll never know why I had to go  \\r\\nWhy I had...  \n",
       "3  Making somebody happy is a question of give an...  \n",
       "4  Making somebody happy is a question of give an...  "
      ]
     },
     "execution_count": 3,
     "metadata": {},
     "output_type": "execute_result"
    }
   ],
   "source": [
    "df = df.drop('link',axis=1).reset_index(drop=True)\n",
    "df.head(5)"
   ]
  },
  {
   "cell_type": "code",
   "execution_count": 4,
   "id": "fe3e7a04",
   "metadata": {},
   "outputs": [
    {
     "data": {
      "text/plain": [
       "(57650, 3)"
      ]
     },
     "execution_count": 4,
     "metadata": {},
     "output_type": "execute_result"
    }
   ],
   "source": [
    "df.shape"
   ]
  },
  {
   "cell_type": "markdown",
   "id": "18466300",
   "metadata": {},
   "source": [
    "Text cleaning"
   ]
  },
  {
   "cell_type": "code",
   "execution_count": 5,
   "id": "3b32e2fe",
   "metadata": {},
   "outputs": [
    {
     "data": {
      "text/plain": [
       "0    look at her face, it's a wonderful face    and...\n",
       "1    take it easy with me, please    touch me gentl...\n",
       "2    i'll never know why i had to go    why i had t...\n",
       "3    making somebody happy is a question of give an...\n",
       "4    making somebody happy is a question of give an...\n",
       "Name: text, dtype: object"
      ]
     },
     "execution_count": 5,
     "metadata": {},
     "output_type": "execute_result"
    }
   ],
   "source": [
    "df['text'] = df['text'].str.lower().replace(r'a-ZA-Z0-9',' ').replace(r'\\n',' ',regex = True).replace(r'\\r',' ',regex = True)\n",
    "df['text'].head(5)"
   ]
  },
  {
   "cell_type": "code",
   "execution_count": 6,
   "id": "33b3c928",
   "metadata": {},
   "outputs": [],
   "source": [
    "import nltk\n",
    "from nltk.stem.porter import PorterStemmer"
   ]
  },
  {
   "cell_type": "code",
   "execution_count": 7,
   "id": "a41d42fe",
   "metadata": {},
   "outputs": [],
   "source": [
    "stemmer = PorterStemmer()"
   ]
  },
  {
   "cell_type": "code",
   "execution_count": 8,
   "id": "5ab9ee89",
   "metadata": {},
   "outputs": [],
   "source": [
    "def token(txt):\n",
    "    tokens = nltk.word_tokenize(txt)\n",
    "    stemmed_tokens = [stemmer.stem(s) for s in tokens]\n",
    "    return \" \".join(stemmed_tokens)"
   ]
  },
  {
   "cell_type": "code",
   "execution_count": 9,
   "id": "d323e5d2",
   "metadata": {},
   "outputs": [
    {
     "data": {
      "text/plain": [
       "'you are beauti my beauti'"
      ]
     },
     "execution_count": 9,
     "metadata": {},
     "output_type": "execute_result"
    }
   ],
   "source": [
    "token(\"you are beautiful my beauty\")"
   ]
  },
  {
   "cell_type": "code",
   "execution_count": 10,
   "id": "fef709ee",
   "metadata": {},
   "outputs": [
    {
     "data": {
      "text/plain": [
       "0        look at her face , it 's a wonder face and it ...\n",
       "1        take it easi with me , pleas touch me gentli l...\n",
       "2        i 'll never know whi i had to go whi i had to ...\n",
       "3        make somebodi happi is a question of give and ...\n",
       "4        make somebodi happi is a question of give and ...\n",
       "                               ...                        \n",
       "57645    iri day come on play let the angel fli let the...\n",
       "57646    power to the worker more power power to the wo...\n",
       "57647    all you need is someth i 'll believ flashlight...\n",
       "57648    northern star am i frighten where can i go to ...\n",
       "57649    come in make yourself at home i 'm a bit late ...\n",
       "Name: text, Length: 57650, dtype: object"
      ]
     },
     "execution_count": 10,
     "metadata": {},
     "output_type": "execute_result"
    }
   ],
   "source": [
    "df['text'].apply(lambda x :token(x))"
   ]
  },
  {
   "cell_type": "code",
   "execution_count": 11,
   "id": "ab6a419d",
   "metadata": {},
   "outputs": [],
   "source": [
    "from sklearn.feature_extraction.text import TfidfVectorizer\n",
    "from sklearn.metrics.pairwise import cosine_similarity"
   ]
  },
  {
   "cell_type": "code",
   "execution_count": 12,
   "id": "ff343f82",
   "metadata": {},
   "outputs": [],
   "source": [
    "tfid = TfidfVectorizer(analyzer = 'word', stop_words = 'english')"
   ]
  },
  {
   "cell_type": "code",
   "execution_count": 13,
   "id": "9ff40cae",
   "metadata": {},
   "outputs": [],
   "source": [
    "matrix1 = tfid.fit_transform(df['text'].head(28825))\n",
    "matrix2 = tfid.fit_transform(df['text'].tail(28825))\n",
    "array1 = cosine_similarity(matrix1)\n",
    "array2 = cosine_similarity(matrix2)"
   ]
  },
  {
   "cell_type": "code",
   "execution_count": 14,
   "id": "c342309c",
   "metadata": {},
   "outputs": [
    {
     "name": "stdout",
     "output_type": "stream",
     "text": [
      "[[1.00000000e+00 1.46110707e-03 9.95718035e-03 ... 6.74865406e-02\n",
      "  2.71923476e-02 2.05043811e-03]\n",
      " [1.46110707e-03 1.00000000e+00 4.00594369e-03 ... 4.45231725e-03\n",
      "  4.65186888e-03 4.98334466e-03]\n",
      " [9.95718035e-03 4.00594369e-03 1.00000000e+00 ... 1.70643246e-02\n",
      "  3.55177243e-04 5.99954654e-03]\n",
      " ...\n",
      " [8.91979322e-03 1.59830781e-02 1.52487023e-02 ... 1.00000000e+00\n",
      "  1.32581338e-02 1.21342448e-01]\n",
      " [1.63797194e-03 2.63919462e-03 0.00000000e+00 ... 1.32581338e-02\n",
      "  1.00000000e+00 1.73327479e-02]\n",
      " [4.95997164e-03 1.98297835e-02 1.21418774e-01 ... 1.21342448e-01\n",
      "  1.73327479e-02 1.00000000e+00]]\n"
     ]
    }
   ],
   "source": [
    "import numpy as np\n",
    "array = np.concatenate((array1, array2), axis=0)\n",
    "print(array)"
   ]
  },
  {
   "cell_type": "code",
   "execution_count": 17,
   "id": "17eb3987",
   "metadata": {},
   "outputs": [
    {
     "data": {
      "text/html": [
       "<div>\n",
       "<style scoped>\n",
       "    .dataframe tbody tr th:only-of-type {\n",
       "        vertical-align: middle;\n",
       "    }\n",
       "\n",
       "    .dataframe tbody tr th {\n",
       "        vertical-align: top;\n",
       "    }\n",
       "\n",
       "    .dataframe thead th {\n",
       "        text-align: right;\n",
       "    }\n",
       "</style>\n",
       "<table border=\"1\" class=\"dataframe\">\n",
       "  <thead>\n",
       "    <tr style=\"text-align: right;\">\n",
       "      <th></th>\n",
       "      <th>artist</th>\n",
       "      <th>song</th>\n",
       "      <th>text</th>\n",
       "    </tr>\n",
       "  </thead>\n",
       "  <tbody>\n",
       "    <tr>\n",
       "      <th>17834</th>\n",
       "      <td>Rod Stewart</td>\n",
       "      <td>How Long</td>\n",
       "      <td>how long has this been going on?    how long h...</td>\n",
       "    </tr>\n",
       "    <tr>\n",
       "      <th>26679</th>\n",
       "      <td>Bryan White</td>\n",
       "      <td>How Long</td>\n",
       "      <td>you say you need someone to love    but when w...</td>\n",
       "    </tr>\n",
       "    <tr>\n",
       "      <th>29833</th>\n",
       "      <td>Dire Straits</td>\n",
       "      <td>How Long</td>\n",
       "      <td>how long, how long baby    how long has it bee...</td>\n",
       "    </tr>\n",
       "    <tr>\n",
       "      <th>30719</th>\n",
       "      <td>Eagles</td>\n",
       "      <td>How Long</td>\n",
       "      <td>like a blue bird with his heart removed, lonel...</td>\n",
       "    </tr>\n",
       "    <tr>\n",
       "      <th>37369</th>\n",
       "      <td>Jackson Browne</td>\n",
       "      <td>How Long</td>\n",
       "      <td>when you look into a child's face    and you'r...</td>\n",
       "    </tr>\n",
       "    <tr>\n",
       "      <th>41817</th>\n",
       "      <td>Lionel Richie</td>\n",
       "      <td>How Long</td>\n",
       "      <td>every time i see you and i look into your eyes...</td>\n",
       "    </tr>\n",
       "    <tr>\n",
       "      <th>51304</th>\n",
       "      <td>Santana</td>\n",
       "      <td>How Long</td>\n",
       "      <td>it's so hard just waitin'    but i guess that'...</td>\n",
       "    </tr>\n",
       "    <tr>\n",
       "      <th>56052</th>\n",
       "      <td>Wet Wet Wet</td>\n",
       "      <td>How Long</td>\n",
       "      <td>hey there mr. taxi driver    take me to the st...</td>\n",
       "    </tr>\n",
       "  </tbody>\n",
       "</table>\n",
       "</div>"
      ],
      "text/plain": [
       "               artist      song  \\\n",
       "17834     Rod Stewart  How Long   \n",
       "26679     Bryan White  How Long   \n",
       "29833    Dire Straits  How Long   \n",
       "30719          Eagles  How Long   \n",
       "37369  Jackson Browne  How Long   \n",
       "41817   Lionel Richie  How Long   \n",
       "51304         Santana  How Long   \n",
       "56052     Wet Wet Wet  How Long   \n",
       "\n",
       "                                                    text  \n",
       "17834  how long has this been going on?    how long h...  \n",
       "26679  you say you need someone to love    but when w...  \n",
       "29833  how long, how long baby    how long has it bee...  \n",
       "30719  like a blue bird with his heart removed, lonel...  \n",
       "37369  when you look into a child's face    and you'r...  \n",
       "41817  every time i see you and i look into your eyes...  \n",
       "51304  it's so hard just waitin'    but i guess that'...  \n",
       "56052  hey there mr. taxi driver    take me to the st...  "
      ]
     },
     "execution_count": 17,
     "metadata": {},
     "output_type": "execute_result"
    }
   ],
   "source": [
    "df[df['song']=='How Long']"
   ]
  },
  {
   "cell_type": "markdown",
   "id": "81f24e17",
   "metadata": {},
   "source": [
    "Recommender Function"
   ]
  },
  {
   "cell_type": "code",
   "execution_count": 52,
   "id": "9ba6933b",
   "metadata": {},
   "outputs": [],
   "source": [
    "def song_recommender(song_name):\n",
    "    song_id = df[df['song']==song_name].index[0]\n",
    "    distance = sorted(list(enumerate(array[song_id])), reverse=True, key = lambda x:x[1])\n",
    "    recommended_song = []\n",
    "    for s_id in distance [1:6]:\n",
    "        recommended_song.append(df.iloc[s_id[0]].song)\n",
    "    return recommended_song"
   ]
  },
  {
   "cell_type": "code",
   "execution_count": 53,
   "id": "ef3df6fc",
   "metadata": {},
   "outputs": [
    {
     "data": {
      "text/plain": [
       "['Sea Of Dreams',\n",
       " 'The Prime Of Your Love',\n",
       " 'Bang-A-Boomerang',\n",
       " 'Dum Dum',\n",
       " 'Give Me A Bit']"
      ]
     },
     "execution_count": 53,
     "metadata": {},
     "output_type": "execute_result"
    }
   ],
   "source": [
    "song_recommender(\"Bang\")"
   ]
  },
  {
   "cell_type": "code",
   "execution_count": 54,
   "id": "6f157941",
   "metadata": {},
   "outputs": [
    {
     "data": {
      "text/plain": [
       "['A Hundred And One',\n",
       " 'Between Now And Forever',\n",
       " 'Everywhere I Turn',\n",
       " 'How Lucky I Am',\n",
       " 'I Stand All Alone']"
      ]
     },
     "execution_count": 54,
     "metadata": {},
     "output_type": "execute_result"
    }
   ],
   "source": [
    "def artist_recommender(artist_name):\n",
    "    artist_df = df[df['artist']== artist_name].head(5)\n",
    "    songs_by_artist = artist_df['song'].tolist()\n",
    "    return songs_by_artist\n",
    "\n",
    "artist_recommender(\"Bryan White\")"
   ]
  },
  {
   "cell_type": "code",
   "execution_count": null,
   "id": "a199489a",
   "metadata": {},
   "outputs": [],
   "source": []
  }
 ],
 "metadata": {
  "kernelspec": {
   "display_name": "Python 3 (ipykernel)",
   "language": "python",
   "name": "python3"
  },
  "language_info": {
   "codemirror_mode": {
    "name": "ipython",
    "version": 3
   },
   "file_extension": ".py",
   "mimetype": "text/x-python",
   "name": "python",
   "nbconvert_exporter": "python",
   "pygments_lexer": "ipython3",
   "version": "3.11.5"
  }
 },
 "nbformat": 4,
 "nbformat_minor": 5
}
