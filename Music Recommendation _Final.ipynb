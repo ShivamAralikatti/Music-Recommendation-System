{
 "cells": [
  {
   "cell_type": "code",
   "execution_count": 1,
   "id": "7e64bed6",
   "metadata": {},
   "outputs": [],
   "source": [
    "import pandas as pd\n",
    "df = pd.read_csv(\"spotify_millsongdata.csv\")"
   ]
  },
  {
   "cell_type": "code",
   "execution_count": 2,
   "id": "c417243a",
   "metadata": {},
   "outputs": [
    {
     "data": {
      "text/plain": [
       "artist    0\n",
       "song      0\n",
       "link      0\n",
       "text      0\n",
       "dtype: int64"
      ]
     },
     "execution_count": 2,
     "metadata": {},
     "output_type": "execute_result"
    }
   ],
   "source": [
    "#Checking for null values\n",
    "df.isnull().sum()"
   ]
  },
  {
   "cell_type": "code",
   "execution_count": 3,
   "id": "a03ed317",
   "metadata": {},
   "outputs": [],
   "source": [
    "#Dropping the link cloumn\n",
    "df = df.drop('link',axis=1).reset_index(drop=True)"
   ]
  },
  {
   "cell_type": "markdown",
   "id": "31d0b9e5",
   "metadata": {},
   "source": [
    "Text Cleaning"
   ]
  },
  {
   "cell_type": "code",
   "execution_count": 4,
   "id": "a04ca006",
   "metadata": {},
   "outputs": [],
   "source": [
    "#Translating the lyrics column(text) to lower case\n",
    "df['text'] = df['text'].str.lower().replace(r'a-ZA-Z0-9',' ').replace(r'\\n',' ',regex = True).replace(r'\\r',' ',regex = True)"
   ]
  },
  {
   "cell_type": "code",
   "execution_count": 5,
   "id": "254d9da5",
   "metadata": {},
   "outputs": [],
   "source": [
    "# Importing nltk for stemming\n",
    "import nltk\n",
    "from nltk.stem.porter import PorterStemmer\n",
    "\n",
    "stemmer = PorterStemmer()\n",
    "\n",
    "def token(txt):\n",
    "    tokens = nltk.word_tokenize(txt)\n",
    "    stemmed_tokens = [stemmer.stem(s) for s in tokens]\n",
    "    return \" \".join(stemmed_tokens)"
   ]
  },
  {
   "cell_type": "code",
   "execution_count": 6,
   "id": "839da980",
   "metadata": {},
   "outputs": [
    {
     "data": {
      "text/plain": [
       "'you are beauti my beauti'"
      ]
     },
     "execution_count": 6,
     "metadata": {},
     "output_type": "execute_result"
    }
   ],
   "source": [
    "#Evaluating the function with an example\n",
    "token(\"you are beautiful my beauty\")"
   ]
  },
  {
   "cell_type": "code",
   "execution_count": 7,
   "id": "2b151a8b",
   "metadata": {},
   "outputs": [
    {
     "data": {
      "text/plain": [
       "0        look at her face , it 's a wonder face and it ...\n",
       "1        take it easi with me , pleas touch me gentli l...\n",
       "2        i 'll never know whi i had to go whi i had to ...\n",
       "3        make somebodi happi is a question of give and ...\n",
       "4        make somebodi happi is a question of give and ...\n",
       "                               ...                        \n",
       "57645    iri day come on play let the angel fli let the...\n",
       "57646    power to the worker more power power to the wo...\n",
       "57647    all you need is someth i 'll believ flashlight...\n",
       "57648    northern star am i frighten where can i go to ...\n",
       "57649    come in make yourself at home i 'm a bit late ...\n",
       "Name: text, Length: 57650, dtype: object"
      ]
     },
     "execution_count": 7,
     "metadata": {},
     "output_type": "execute_result"
    }
   ],
   "source": [
    "#Applying the function to df\n",
    "df['text'].apply(lambda x :token(x))"
   ]
  },
  {
   "cell_type": "code",
   "execution_count": 8,
   "id": "a7accce3",
   "metadata": {},
   "outputs": [
    {
     "name": "stdout",
     "output_type": "stream",
     "text": [
      "[[1.         0.0014535  0.00991734 ... 0.0209551  0.05519017 0.01556152]\n",
      " [0.0014535  1.         0.00398359 ... 0.00253139 0.00882854 0.01808771]\n",
      " [0.00991734 0.00398359 1.         ... 0.07264914 0.00582049 0.01540913]\n",
      " ...\n",
      " [0.0209551  0.00253139 0.07264914 ... 1.         0.0022271  0.0089489 ]\n",
      " [0.05519017 0.00882854 0.00582049 ... 0.0022271  1.         0.06130133]\n",
      " [0.01556152 0.01808771 0.01540913 ... 0.0089489  0.06130133 1.        ]]\n"
     ]
    }
   ],
   "source": [
    "#Vectorizing and finding Similarity using Cosine_similarity\n",
    "\n",
    "import numpy as np\n",
    "from sklearn.feature_extraction.text import TfidfVectorizer\n",
    "from sklearn.metrics.pairwise import cosine_similarity\n",
    "\n",
    "tfid = TfidfVectorizer(analyzer = 'word', stop_words = 'english')\n",
    "\n",
    "matrix = tfid.fit_transform(df['text'].head(30000))\n",
    "array = cosine_similarity(matrix)\n",
    "\n",
    "print(array)"
   ]
  },
  {
   "cell_type": "markdown",
   "id": "19f777d6",
   "metadata": {},
   "source": [
    "Recommender Functions"
   ]
  },
  {
   "cell_type": "code",
   "execution_count": 9,
   "id": "d85c8fd7",
   "metadata": {},
   "outputs": [],
   "source": [
    "#Song Recommender function\n",
    "def song_recommender(song_name):\n",
    "    song_id = df[df['song']==song_name].index[0]\n",
    "    distance = sorted(list(enumerate(array[song_id])), reverse=True, key = lambda x:x[1])\n",
    "    recommended_song = []\n",
    "    for s_id in distance [1:6]:\n",
    "        recommended_song.append(df.iloc[s_id[0]].song)\n",
    "    return recommended_song"
   ]
  },
  {
   "cell_type": "code",
   "execution_count": 10,
   "id": "52ed2f82",
   "metadata": {},
   "outputs": [
    {
     "data": {
      "text/plain": [
       "['Sea Of Dreams',\n",
       " 'The Prime Of Your Love',\n",
       " 'Bang-A-Boomerang',\n",
       " 'Dum Dum',\n",
       " 'Give Me A Bit']"
      ]
     },
     "execution_count": 10,
     "metadata": {},
     "output_type": "execute_result"
    }
   ],
   "source": [
    "#Evaluating the Song Recommender function\n",
    "song_recommender(\"Bang\")"
   ]
  },
  {
   "cell_type": "code",
   "execution_count": 11,
   "id": "c805ea4a",
   "metadata": {},
   "outputs": [],
   "source": [
    "#Songs from the same artist recommender\n",
    "def artist_recommender(artist_name):\n",
    "    artist_df = df[df['artist']== artist_name].head(5)\n",
    "    songs_by_artist = artist_df['song'].tolist()\n",
    "    return songs_by_artist"
   ]
  },
  {
   "cell_type": "code",
   "execution_count": 12,
   "id": "7e2c9c4b",
   "metadata": {},
   "outputs": [
    {
     "data": {
      "text/plain": [
       "['A Hundred And One',\n",
       " 'Between Now And Forever',\n",
       " 'Everywhere I Turn',\n",
       " 'How Lucky I Am',\n",
       " 'I Stand All Alone']"
      ]
     },
     "execution_count": 12,
     "metadata": {},
     "output_type": "execute_result"
    }
   ],
   "source": [
    "#Evaluating the Artist Recommender function\n",
    "artist_recommender(\"Bryan White\")"
   ]
  },
  {
   "cell_type": "markdown",
   "id": "11e5c27d",
   "metadata": {},
   "source": [
    "Model Saving"
   ]
  },
  {
   "cell_type": "code",
   "execution_count": 13,
   "id": "b0bcd4ed",
   "metadata": {},
   "outputs": [
    {
     "data": {
      "text/plain": [
       "['df.joblib']"
      ]
     },
     "execution_count": 13,
     "metadata": {},
     "output_type": "execute_result"
    }
   ],
   "source": [
    "#Saving the model\n",
    "import joblib\n",
    "joblib.dump(array, \"similarity.joblib\")\n",
    "joblib.dump(df, \"df.joblib\")"
   ]
  }
 ],
 "metadata": {
  "kernelspec": {
   "display_name": "Python 3 (ipykernel)",
   "language": "python",
   "name": "python3"
  },
  "language_info": {
   "codemirror_mode": {
    "name": "ipython",
    "version": 3
   },
   "file_extension": ".py",
   "mimetype": "text/x-python",
   "name": "python",
   "nbconvert_exporter": "python",
   "pygments_lexer": "ipython3",
   "version": "3.11.5"
  }
 },
 "nbformat": 4,
 "nbformat_minor": 5
}
